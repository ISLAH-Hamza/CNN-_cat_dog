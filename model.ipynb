{
  "cells": [
    {
      "cell_type": "markdown",
      "metadata": {
        "id": "view-in-github",
        "colab_type": "text"
      },
      "source": [
        "<a href=\"https://colab.research.google.com/github/ISLAH-Hamza/deepIm/blob/master/model.ipynb\" target=\"_parent\"><img src=\"https://colab.research.google.com/assets/colab-badge.svg\" alt=\"Open In Colab\"/></a>"
      ]
    },
    {
      "cell_type": "code",
      "execution_count": 127,
      "id": "8ff064c9",
      "metadata": {
        "id": "8ff064c9"
      },
      "outputs": [],
      "source": [
        "from tensorflow.keras.preprocessing.image import ImageDataGenerator\n",
        "from tensorflow.keras.preprocessing import image\n",
        "from tensorflow.keras.callbacks import EarlyStopping\n",
        "import tensorflow as tf\n",
        "import matplotlib.pyplot as plt\n",
        "import cv2\n",
        "import os\n",
        "from PIL import Image\n",
        "import numpy as np\n",
        "import scipy"
      ]
    },
    {
      "cell_type": "markdown",
      "source": [],
      "metadata": {
        "id": "b1r96-TOizUb"
      },
      "id": "b1r96-TOizUb"
    },
    {
      "cell_type": "code",
      "source": [
        "from google.colab import drive\n",
        "drive.mount('/content/drive')"
      ],
      "metadata": {
        "colab": {
          "base_uri": "https://localhost:8080/"
        },
        "id": "j-IXLM1Ziyva",
        "outputId": "3f442920-d3ea-4791-f294-71493f26e376"
      },
      "id": "j-IXLM1Ziyva",
      "execution_count": 128,
      "outputs": [
        {
          "output_type": "stream",
          "name": "stdout",
          "text": [
            "Drive already mounted at /content/drive; to attempt to forcibly remount, call drive.mount(\"/content/drive\", force_remount=True).\n"
          ]
        }
      ]
    },
    {
      "cell_type": "code",
      "execution_count": 129,
      "id": "32112fc4",
      "metadata": {
        "id": "32112fc4"
      },
      "outputs": [],
      "source": [
        "valid=train=ImageDataGenerator(rescale=1/250)"
      ]
    },
    {
      "cell_type": "code",
      "execution_count": 130,
      "id": "6e84c94c",
      "metadata": {
        "colab": {
          "base_uri": "https://localhost:8080/"
        },
        "id": "6e84c94c",
        "outputId": "f8e24d60-96c2-443d-84b6-33713ea86661"
      },
      "outputs": [
        {
          "output_type": "stream",
          "name": "stdout",
          "text": [
            "Found 1047 images belonging to 2 classes.\n",
            "Found 176 images belonging to 2 classes.\n"
          ]
        }
      ],
      "source": [
        "data_train=train.flow_from_directory('/content/drive/MyDrive/training',target_size=(250,250), class_mode=\"binary\")\n",
        "data_valid=valid.flow_from_directory('/content/drive/MyDrive/validation',target_size=(250,250),class_mode=\"binary\")"
      ]
    },
    {
      "cell_type": "code",
      "execution_count": 131,
      "id": "febaf305",
      "metadata": {
        "colab": {
          "base_uri": "https://localhost:8080/"
        },
        "id": "febaf305",
        "outputId": "5b8e1129-0124-4960-a37d-d34bd0fbb956"
      },
      "outputs": [
        {
          "output_type": "execute_result",
          "data": {
            "text/plain": [
              "{'cats': 0, 'dogs': 1}"
            ]
          },
          "metadata": {},
          "execution_count": 131
        }
      ],
      "source": [
        "data_train.class_indices"
      ]
    },
    {
      "cell_type": "code",
      "execution_count": 132,
      "id": "aab92fa6",
      "metadata": {
        "id": "aab92fa6"
      },
      "outputs": [],
      "source": [
        "model=tf.keras.models.Sequential([\n",
        "    \n",
        "    tf.keras.layers.Conv2D(64,(3,3),activation=\"relu\",input_shape= (250,250,3) ),\n",
        "    tf.keras.layers.MaxPool2D(3,3),\n",
        "     tf.keras.layers.Conv2D(32,(3,3),activation=\"relu\"),\n",
        "    tf.keras.layers.MaxPool2D(3,3),\n",
        "    tf.keras.layers.Flatten(),\n",
        "    #tf.keras.layers.Dropout(.2),\n",
        "    tf.keras.layers.Dense(128,activation='relu'),\n",
        "    tf.keras.layers.Dense(64,activation='relu'),\n",
        "    tf.keras.layers.Dense(1,activation=\"sigmoid\")\n",
        "]\n",
        ")"
      ]
    },
    {
      "cell_type": "code",
      "execution_count": 133,
      "id": "0f7bb0fb",
      "metadata": {
        "id": "0f7bb0fb"
      },
      "outputs": [],
      "source": [
        "opt = tf.keras.optimizers.Adam(learning_rate=0.001)\n",
        "model.compile(loss='binary_crossentropy',optimizer=opt,metrics=['accuracy'])"
      ]
    },
    {
      "cell_type": "code",
      "execution_count": 134,
      "id": "6ace1d22",
      "metadata": {
        "id": "6ace1d22"
      },
      "outputs": [],
      "source": [
        "early_stopping=EarlyStopping(monitor=\"val_accuracy\",patience=5)"
      ]
    },
    {
      "cell_type": "code",
      "execution_count": 135,
      "id": "011c0817",
      "metadata": {
        "colab": {
          "base_uri": "https://localhost:8080/"
        },
        "id": "011c0817",
        "outputId": "df3d2b78-8355-4cf8-e425-67ec389320ef"
      },
      "outputs": [
        {
          "output_type": "stream",
          "name": "stdout",
          "text": [
            "Epoch 1/100\n",
            "33/33 [==============================] - 5s 128ms/step - loss: 0.7180 - accuracy: 0.5320 - val_loss: 0.6782 - val_accuracy: 0.6420\n",
            "Epoch 2/100\n",
            "33/33 [==============================] - 4s 121ms/step - loss: 0.6765 - accuracy: 0.5654 - val_loss: 0.6714 - val_accuracy: 0.5227\n",
            "Epoch 3/100\n",
            "33/33 [==============================] - 4s 122ms/step - loss: 0.5955 - accuracy: 0.6734 - val_loss: 0.6326 - val_accuracy: 0.6875\n",
            "Epoch 4/100\n",
            "33/33 [==============================] - 4s 122ms/step - loss: 0.4772 - accuracy: 0.7736 - val_loss: 0.6250 - val_accuracy: 0.7102\n",
            "Epoch 5/100\n",
            "33/33 [==============================] - 4s 121ms/step - loss: 0.3324 - accuracy: 0.8730 - val_loss: 0.7936 - val_accuracy: 0.7216\n",
            "Epoch 6/100\n",
            "33/33 [==============================] - 4s 121ms/step - loss: 0.1803 - accuracy: 0.9322 - val_loss: 1.1456 - val_accuracy: 0.6761\n",
            "Epoch 7/100\n",
            "33/33 [==============================] - 4s 121ms/step - loss: 0.1142 - accuracy: 0.9618 - val_loss: 1.4091 - val_accuracy: 0.6534\n",
            "Epoch 8/100\n",
            "33/33 [==============================] - 4s 121ms/step - loss: 0.1176 - accuracy: 0.9580 - val_loss: 1.3794 - val_accuracy: 0.6875\n",
            "Epoch 9/100\n",
            "33/33 [==============================] - 4s 121ms/step - loss: 0.0324 - accuracy: 0.9904 - val_loss: 1.6563 - val_accuracy: 0.7273\n",
            "Epoch 10/100\n",
            "33/33 [==============================] - 4s 121ms/step - loss: 0.0092 - accuracy: 0.9981 - val_loss: 1.9940 - val_accuracy: 0.7102\n",
            "Epoch 11/100\n",
            "33/33 [==============================] - 4s 121ms/step - loss: 0.0137 - accuracy: 0.9981 - val_loss: 2.3988 - val_accuracy: 0.6989\n",
            "Epoch 12/100\n",
            "33/33 [==============================] - 4s 122ms/step - loss: 0.0123 - accuracy: 0.9952 - val_loss: 1.9395 - val_accuracy: 0.6761\n",
            "Epoch 13/100\n",
            "33/33 [==============================] - 4s 123ms/step - loss: 0.0256 - accuracy: 0.9933 - val_loss: 1.9500 - val_accuracy: 0.7330\n",
            "Epoch 14/100\n",
            "33/33 [==============================] - 4s 125ms/step - loss: 0.0547 - accuracy: 0.9857 - val_loss: 1.9457 - val_accuracy: 0.6932\n",
            "Epoch 15/100\n",
            "33/33 [==============================] - 4s 123ms/step - loss: 0.0306 - accuracy: 0.9904 - val_loss: 1.9440 - val_accuracy: 0.6761\n",
            "Epoch 16/100\n",
            "33/33 [==============================] - 4s 122ms/step - loss: 0.0242 - accuracy: 0.9895 - val_loss: 2.2128 - val_accuracy: 0.6705\n",
            "Epoch 17/100\n",
            "33/33 [==============================] - 4s 120ms/step - loss: 0.0165 - accuracy: 0.9981 - val_loss: 2.2811 - val_accuracy: 0.6818\n",
            "Epoch 18/100\n",
            "33/33 [==============================] - 4s 122ms/step - loss: 0.0093 - accuracy: 0.9962 - val_loss: 2.2535 - val_accuracy: 0.7159\n"
          ]
        }
      ],
      "source": [
        "model_fit=model.fit(data_train,epochs=100,validation_data=data_valid,callbacks=[early_stopping])"
      ]
    },
    {
      "cell_type": "code",
      "execution_count": 136,
      "id": "aa9db4cb",
      "metadata": {
        "colab": {
          "base_uri": "https://localhost:8080/",
          "height": 265
        },
        "id": "aa9db4cb",
        "outputId": "d5aac98b-f414-4a38-c03d-345fb0a0e49b"
      },
      "outputs": [
        {
          "output_type": "display_data",
          "data": {
            "text/plain": [
              "<Figure size 432x288 with 1 Axes>"
            ],
            "image/png": "[encoded data removed]"
          },
          "metadata": {
            "needs_background": "light"
          }
        }
      ],
      "source": [
        "plt.plot(model_fit.history['accuracy'])\n",
        "plt.plot(model_fit.history['val_accuracy'])\n",
        "plt.show()"
      ]
    },
    {
      "cell_type": "markdown",
      "id": "478aa329",
      "metadata": {
        "id": "478aa329"
      },
      "source": [
        "save the model into the h5 format "
      ]
    },
    {
      "cell_type": "code",
      "execution_count": 137,
      "id": "5ced59df",
      "metadata": {
        "id": "5ced59df"
      },
      "outputs": [],
      "source": [
        "model.save(\"/content/drive/MyDrive/save models/model.hdf5\")"
      ]
    }
  ],
  "metadata": {
    "kernelspec": {
      "display_name": "Python 3 (ipykernel)",
      "language": "python",
      "name": "python3"
    },
    "language_info": {
      "codemirror_mode": {
        "name": "ipython",
        "version": 3
      },
      "file_extension": ".py",
      "mimetype": "text/x-python",
      "name": "python",
      "nbconvert_exporter": "python",
      "pygments_lexer": "ipython3",
      "version": "3.10.6"
    },
    "vscode": {
      "interpreter": {
        "hash": "33d0e5948d694fab5ee1d2bf42947e73b4b112d8114351b8fa4f6e527efa80c4"
      }
    },
    "colab": {
      "provenance": [],
      "include_colab_link": true
    },
    "accelerator": "GPU",
    "gpuClass": "standard"
  },
  "nbformat": 4,
  "nbformat_minor": 5
}